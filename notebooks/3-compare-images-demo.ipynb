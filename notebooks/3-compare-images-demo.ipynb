{
 "cells": [
  {
   "cell_type": "markdown",
   "metadata": {
    "id": "S5LwK8mIla8H"
   },
   "source": [
    "# 2D images"
   ]
  },
  {
   "cell_type": "code",
   "execution_count": null,
   "metadata": {
    "colab": {
     "base_uri": "https://localhost:8080/",
     "height": 97
    },
    "id": "4xLoHmfbUpze",
    "outputId": "ea62685f-2f0b-41a0-e08d-ed7c50d3ade6"
   },
   "outputs": [],
   "source": [
    "from imjoy import api\n",
    "import skimage\n",
    "\n",
    "class ImJoyPlugin():\n",
    "    async def setup(self):\n",
    "        pass\n",
    "\n",
    "    async def run(self, ctx):\n",
    "        img = skimage.data.astronaut()\n",
    "        # load the image compare window plugin from url\n",
    "        compare_plugin_url = \"https://gist.github.com/oeway/ffb6f0efae8a68d497202137820f68e8\"\n",
    "        viewer = await api.createWindow(src=compare_plugin_url, data={\"images\": [img[:, :, 0], img[:, :, 1], img[:, :, 2]]})\n",
    "\n",
    "api.export(ImJoyPlugin())"
   ]
  },
  {
   "cell_type": "markdown",
   "metadata": {
    "id": "RoguQSqYlWr5"
   },
   "source": [
    "# 3D example\n",
    "\n"
   ]
  },
  {
   "cell_type": "code",
   "execution_count": null,
   "metadata": {
    "id": "CfEK-6BAg-XF"
   },
   "outputs": [],
   "source": [
    "from imjoy import api\n",
    "import skimage\n",
    "import numpy as np\n",
    "\n",
    "class ImJoyPlugin():\n",
    "    async def setup(self):\n",
    "        pass\n",
    "\n",
    "    async def run(self, ctx):\n",
    "        volume = np.random.randint(0, 255, [30, 30, 30], dtype='uint8')\n",
    "        # load the image compare window plugin from url\n",
    "        compare_plugin_url = \"https://gist.github.com/oeway/ffb6f0efae8a68d497202137820f68e8\"\n",
    "        viewer = await api.createWindow(src=compare_plugin_url, data={\"images\": [volume, volume]})\n",
    "\n",
    "api.export(ImJoyPlugin())"
   ]
  },
  {
   "cell_type": "code",
   "execution_count": null,
   "metadata": {
    "id": "tC07p6rcXmpK"
   },
   "outputs": [],
   "source": []
  }
 ],
 "metadata": {
  "colab": {
   "collapsed_sections": [],
   "name": "CompareImagesDemo.ipynb",
   "provenance": []
  },
  "kernelspec": {
   "display_name": "Python 3",
   "language": "python",
   "name": "python3"
  },
  "language_info": {
   "codemirror_mode": {
    "name": "ipython",
    "version": 3
   },
   "file_extension": ".py",
   "mimetype": "text/x-python",
   "name": "python",
   "nbconvert_exporter": "python",
   "pygments_lexer": "ipython3",
   "version": "3.7.2"
  }
 },
 "nbformat": 4,
 "nbformat_minor": 1
}
