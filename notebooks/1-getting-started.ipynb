{
 "cells": [
  {
   "cell_type": "markdown",
   "metadata": {},
   "source": [
    "# Run ImJoy in Jupyter Notebook"
   ]
  },
  {
   "cell_type": "markdown",
   "metadata": {},
   "source": [
    "## Setup an ImJoy plugin"
   ]
  },
  {
   "cell_type": "code",
   "execution_count": null,
   "metadata": {},
   "outputs": [],
   "source": [
    "from imjoy import api\n",
    "\n",
    "class ImJoyPlugin():\n",
    "    async def setup(self):\n",
    "        pass\n",
    "\n",
    "    async def run(self, ctx):\n",
    "        api.alert(\"hello world\")\n",
    "\n",
    "api.export(ImJoyPlugin())"
   ]
  },
  {
   "cell_type": "markdown",
   "metadata": {},
   "source": [
    "## Use the alert"
   ]
  },
  {
   "cell_type": "code",
   "execution_count": null,
   "metadata": {},
   "outputs": [],
   "source": [
    "api.alert('hello again!')"
   ]
  },
  {
   "cell_type": "markdown",
   "metadata": {},
   "source": [
    "## Create a file browser window"
   ]
  },
  {
   "cell_type": "code",
   "execution_count": null,
   "metadata": {},
   "outputs": [],
   "source": [
    "api.createWindow(type=\"ImJoy elFinder\")"
   ]
  },
  {
   "cell_type": "markdown",
   "metadata": {},
   "source": [
    "## Show the file browser as a dialog"
   ]
  },
  {
   "cell_type": "code",
   "execution_count": null,
   "metadata": {},
   "outputs": [],
   "source": [
    "api.showDialog(type=\"ImJoy elFinder\")"
   ]
  },
  {
   "cell_type": "markdown",
   "metadata": {},
   "source": [
    "## Use the itk-vtk-viewer"
   ]
  },
  {
   "cell_type": "code",
   "execution_count": null,
   "metadata": {},
   "outputs": [],
   "source": [
    "import numpy as np\n",
    "\n",
    "image = np.random.randint(0, 255, [10,10,10], dtype='uint8')\n",
    "\n",
    "api.createWindow(type=\"itk-vtk-viewer\", src=\"https://kitware.github.io/itk-vtk-viewer/app/\", data={\"image\": image})"
   ]
  },
  {
   "cell_type": "markdown",
   "metadata": {},
   "source": [
    "## Use the file browser with the viewer"
   ]
  },
  {
   "cell_type": "code",
   "execution_count": null,
   "metadata": {
    "scrolled": false
   },
   "outputs": [],
   "source": [
    "from imjoy import api\n",
    "import imageio\n",
    "\n",
    "class ImJoyPlugin():\n",
    "    async def setup(self):\n",
    "        api.log('initialized')\n",
    "\n",
    "    async def run(self, ctx):\n",
    "        fileDialog = await api.showDialog(type=\"ImJoy elFinder\")\n",
    "        files = await fileDialog.getSelections()\n",
    "        image = imageio.imread(files[0].path)\n",
    "        api.showDialog(type=\"itk-vtk-viewer\", src=\"https://kitware.github.io/itk-vtk-viewer/app/\", data={\"image\": image})\n",
    "\n",
    "api.export(ImJoyPlugin())"
   ]
  },
  {
   "cell_type": "markdown",
   "metadata": {},
   "source": [
    "## Also checkout ImJoy at https://imjoy.io\n",
    "\n",
    "Or you can try it below:"
   ]
  },
  {
   "cell_type": "code",
   "execution_count": null,
   "metadata": {},
   "outputs": [],
   "source": [
    "api.createWindow(type=\"imjoy\", src=\"https://imjoy.io/#/app\")"
   ]
  },
  {
   "cell_type": "code",
   "execution_count": null,
   "metadata": {},
   "outputs": [],
   "source": []
  }
 ],
 "metadata": {
  "kernelspec": {
   "display_name": "Python 3",
   "language": "python",
   "name": "python3"
  },
  "language_info": {
   "codemirror_mode": {
    "name": "ipython",
    "version": 3
   },
   "file_extension": ".py",
   "mimetype": "text/x-python",
   "name": "python",
   "nbconvert_exporter": "python",
   "pygments_lexer": "ipython3",
   "version": "3.7.2"
  }
 },
 "nbformat": 4,
 "nbformat_minor": 2
}
